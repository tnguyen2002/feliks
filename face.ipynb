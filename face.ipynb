{
 "cells": [
  {
   "cell_type": "code",
   "execution_count": 1,
   "metadata": {},
   "outputs": [
    {
     "name": "stdout",
     "output_type": "stream",
     "text": [
      "loading conj_twist table...\n",
      "loading conj_ud_edges table...\n",
      "loading flipslice sym-tables...\n",
      "loading corner sym-tables...\n",
      "loading move_twist table...\n",
      "loading move_flip table...\n",
      "loading move_slice_sorted table...\n",
      "loading move_u_edges table...\n",
      "loading move_d_edges table...\n",
      "loading move_ud_edges table...\n",
      "loading move_corners table...\n",
      "loading phase1_prun table...\n",
      "loading phase2_prun table...\n",
      "loading phase2_cornsliceprun table...\n",
      "loading phase2_edgemerge table...\n"
     ]
    }
   ],
   "source": [
    "import cv2\n",
    "import numpy as np\n",
    "import matplotlib.pyplot as plt\n",
    "from sklearn.cluster import KMeans\n",
    "from skimage import io\n",
    "from PIL import Image, ImageOps\n",
    "import math\n",
    "from scipy.spatial import distance_matrix\n",
    "from utils import cv2_display_image, getColors, colorToLetter, fixColors\n",
    "from vision import process_color_images, imageToColors\n",
    "from rembg import remove\n",
    "import twophase.solver  as sv\n",
    "\n",
    "\n",
    "#3 face image, and try to register a cube\n",
    "# depth mask before background removal?\n",
    "# register a box to an image?\n",
    "# If you know camera properties you could label them.\n",
    "# segmentation the background,\n"
   ]
  },
  {
   "cell_type": "code",
   "execution_count": 2,
   "metadata": {},
   "outputs": [
    {
     "name": "stdout",
     "output_type": "stream",
     "text": [
      "i, j 0 0\n",
      "1.0 177.0 135.0\n",
      "i, j 0 1\n",
      "110.0 132.0 77.0\n",
      "i, j 0 2\n",
      "48.0 138.0 109.0\n",
      "i, j 1 0\n",
      "10.0 216.0 233.0\n",
      "i, j 1 1\n",
      "110.0 120.0 86.0\n",
      "i, j 1 2\n",
      "28.0 215.0 153.0\n",
      "i, j 2 0\n",
      "11.0 222.0 241.0\n",
      "i, j 2 1\n",
      "21.0 36.0 199.0\n",
      "i, j 2 2\n",
      "26.0 220.0 178.0\n"
     ]
    },
    {
     "data": {
      "text/plain": [
       "[['red', 'blue', 'green'],\n",
       " ['orange', 'blue', 'yellow'],\n",
       " ['orange', 'white', 'yellow']]"
      ]
     },
     "execution_count": 2,
     "metadata": {},
     "output_type": "execute_result"
    }
   ],
   "source": [
    "image_path = \"images/scramble_3/blue.jpg\"\n",
    "color_names = imageToColors(image_path)\n",
    "color_names"
   ]
  },
  {
   "cell_type": "code",
   "execution_count": 3,
   "metadata": {},
   "outputs": [
    {
     "name": "stdout",
     "output_type": "stream",
     "text": [
      "RUBIKS COLORS {'yellow': array([ 13., 146., 164.]), 'blue': array([85., 59., 47.]), 'orange': array([ 36.,  93., 199.]), 'green': array([ 39., 114.,  80.]), 'white': array([139., 164., 179.]), 'red': array([ 27.,  36., 101.])}\n",
      "i, j 0 0\n",
      "21.0 28.0 183.0\n",
      "i, j 0 1\n",
      "3.0 159.0 104.0\n",
      "i, j 0 2\n",
      "111.0 113.0 82.0\n",
      "i, j 1 0\n",
      "109.0 151.0 99.0\n",
      "i, j 1 1\n",
      "27.0 234.0 164.0\n",
      "i, j 1 2\n",
      "9.0 206.0 200.0\n",
      "i, j 2 0\n",
      "2.0 198.0 139.0\n",
      "i, j 2 1\n",
      "3.0 204.0 138.0\n",
      "i, j 2 2\n",
      "3.0 187.0 117.0\n",
      "i, j 0 0\n",
      "1.0 177.0 135.0\n",
      "i, j 0 1\n",
      "110.0 132.0 77.0\n",
      "i, j 0 2\n",
      "48.0 138.0 109.0\n",
      "i, j 1 0\n",
      "10.0 216.0 233.0\n",
      "i, j 1 1\n",
      "110.0 120.0 86.0\n",
      "i, j 1 2\n",
      "28.0 215.0 153.0\n",
      "i, j 2 0\n",
      "11.0 222.0 241.0\n",
      "i, j 2 1\n",
      "21.0 36.0 199.0\n",
      "i, j 2 2\n",
      "26.0 220.0 178.0\n",
      "i, j 0 0\n",
      "110.0 114.0 89.0\n",
      "i, j 0 1\n",
      "16.0 62.0 181.0\n",
      "i, j 0 2\n",
      "19.0 53.0 175.0\n",
      "i, j 1 0\n",
      "17.0 53.0 202.0\n",
      "i, j 1 1\n",
      "10.0 208.0 199.0\n",
      "i, j 1 2\n",
      "43.0 167.0 108.0\n",
      "i, j 2 0\n",
      "11.0 228.0 237.0\n",
      "i, j 2 1\n",
      "42.0 189.0 122.0\n",
      "i, j 2 2\n",
      "43.0 173.0 104.0\n",
      "i, j 0 0\n",
      "26.0 212.0 177.0\n",
      "i, j 0 1\n",
      "26.0 218.0 167.0\n",
      "i, j 0 2\n",
      "26.0 209.0 168.0\n",
      "i, j 1 0\n",
      "5.0 179.0 127.0\n",
      "i, j 1 1\n",
      "43.0 168.0 114.0\n",
      "i, j 1 2\n",
      "7.0 186.0 118.0\n",
      "i, j 2 0\n",
      "19.0 42.0 213.0\n",
      "i, j 2 1\n",
      "44.0 171.0 142.0\n",
      "i, j 2 2\n",
      "27.0 232.0 169.0\n",
      "i, j 0 0\n",
      "10.0 209.0 230.0\n",
      "i, j 0 1\n",
      "19.0 56.0 178.0\n",
      "i, j 0 2\n",
      "44.0 151.0 114.0\n",
      "i, j 1 0\n",
      "10.0 221.0 241.0\n",
      "i, j 1 1\n",
      "17.0 57.0 179.0\n",
      "i, j 1 2\n",
      "27.0 215.0 163.0\n",
      "i, j 2 0\n",
      "11.0 229.0 243.0\n",
      "i, j 2 1\n",
      "112.0 122.0 98.0\n",
      "i, j 2 2\n",
      "17.0 61.0 181.0\n",
      "i, j 0 0\n",
      "1.0 167.0 115.0\n",
      "i, j 0 1\n",
      "9.0 195.0 180.0\n",
      "i, j 0 2\n",
      "47.0 140.0 114.0\n",
      "i, j 1 0\n",
      "109.0 151.0 85.0\n",
      "i, j 1 1\n",
      "4.0 185.0 101.0\n",
      "i, j 1 2\n",
      "45.0 150.0 107.0\n",
      "i, j 2 0\n",
      "109.0 160.0 95.0\n",
      "i, j 2 1\n",
      "25.0 235.0 162.0\n",
      "i, j 2 2\n",
      "107.0 124.0 72.0\n"
     ]
    }
   ],
   "source": [
    "directory_path = \"images/scramble_3/\"\n",
    "faces = process_color_images(directory_path)\n",
    "faces = fixColors(faces)\n"
   ]
  },
  {
   "cell_type": "code",
   "execution_count": 4,
   "metadata": {},
   "outputs": [
    {
     "data": {
      "text/plain": [
       "{'yellow': [['white', 'red', 'blue'],\n",
       "  ['blue', 'yellow', 'orange'],\n",
       "  ['red', 'red', 'red']],\n",
       " 'blue': [['red', 'blue', 'green'],\n",
       "  ['orange', 'blue', 'yellow'],\n",
       "  ['orange', 'white', 'yellow']],\n",
       " 'orange': [['blue', 'white', 'white'],\n",
       "  ['white', 'orange', 'green'],\n",
       "  ['orange', 'green', 'green']],\n",
       " 'green': [['yellow', 'yellow', 'yellow'],\n",
       "  ['red', 'green', 'red'],\n",
       "  ['white', 'green', 'yellow']],\n",
       " 'white': [['orange', 'white', 'green'],\n",
       "  ['orange', 'white', 'yellow'],\n",
       "  ['orange', 'blue', 'white']],\n",
       " 'red': [['red', 'orange', 'green'],\n",
       "  ['blue', 'red', 'green'],\n",
       "  ['blue', 'yellow', 'blue']]}"
      ]
     },
     "execution_count": 4,
     "metadata": {},
     "output_type": "execute_result"
    }
   ],
   "source": [
    "faces"
   ]
  },
  {
   "cell_type": "code",
   "execution_count": 5,
   "metadata": {},
   "outputs": [
    {
     "data": {
      "text/plain": [
       "'DLBBURLLLBDDDRFRFFUUULFLDFURDFRDURBDLRFBLFBUBLBFRBURDU'"
      ]
     },
     "execution_count": 5,
     "metadata": {},
     "output_type": "execute_result"
    }
   ],
   "source": [
    "order = [\"yellow\", \"orange\", \"green\", \"white\", \"red\", \"blue\"]\n",
    "convert = colorToLetter()\n",
    "CUBE_STRING = \"\"\n",
    "for color in order:\n",
    "    for i in range(len(faces[color])):\n",
    "        for j in range(len(faces[color][0])):\n",
    "            CUBE_STRING += (convert[faces[color][i][j]])\n",
    "CUBE_STRING"
   ]
  },
  {
   "cell_type": "code",
   "execution_count": 6,
   "metadata": {},
   "outputs": [],
   "source": [
    "solution = sv.solve(CUBE_STRING, 19, 2)"
   ]
  },
  {
   "cell_type": "code",
   "execution_count": 16,
   "metadata": {},
   "outputs": [
    {
     "data": {
      "text/plain": [
       "\"L D F2 U' F2 B' U' D F' D2 R B U L2 U' B2 U' B2 U' (9f)\""
      ]
     },
     "execution_count": 16,
     "metadata": {},
     "output_type": "execute_result"
    }
   ],
   "source": [
    "solution = solution.replace(\"3\", \"'\")\n",
    "solution = solution.replace(\"1\",\"\")\n",
    "solution\n"
   ]
  },
  {
   "cell_type": "code",
   "execution_count": null,
   "metadata": {},
   "outputs": [],
   "source": []
  }
 ],
 "metadata": {
  "kernelspec": {
   "display_name": "2f-rubik",
   "language": "python",
   "name": "python3"
  },
  "language_info": {
   "codemirror_mode": {
    "name": "ipython",
    "version": 3
   },
   "file_extension": ".py",
   "mimetype": "text/x-python",
   "name": "python",
   "nbconvert_exporter": "python",
   "pygments_lexer": "ipython3",
   "version": "3.10.16"
  }
 },
 "nbformat": 4,
 "nbformat_minor": 2
}
