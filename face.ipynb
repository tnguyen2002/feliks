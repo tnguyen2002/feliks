{
 "cells": [
  {
   "cell_type": "code",
   "execution_count": 1,
   "metadata": {},
   "outputs": [],
   "source": [
    "import cv2\n",
    "import numpy as np\n",
    "import matplotlib.pyplot as plt\n",
    "from sklearn.cluster import KMeans\n",
    "from skimage import io\n",
    "from PIL import Image, ImageOps\n",
    "import math\n",
    "from scipy.spatial import distance_matrix\n"
   ]
  },
  {
   "cell_type": "code",
   "execution_count": 73,
   "metadata": {},
   "outputs": [],
   "source": [
    "red_img = cv2.cvtColor(cv2.imread(\"images/colors/red.png\"),cv2.COLOR_BGR2RGB)\n",
    "orange_img = cv2.cvtColor(cv2.imread(\"images/colors/orange.png\"),cv2.COLOR_BGR2RGB)\n",
    "white_img = cv2.cvtColor(cv2.imread(\"images/colors/white.png\"),cv2.COLOR_BGR2RGB)\n",
    "yellow_img = cv2.cvtColor(cv2.imread(\"images/colors/yellow.png\"),cv2.COLOR_BGR2RGB)\n",
    "green_img = cv2.cvtColor(cv2.imread(\"images/colors/green.png\"),cv2.COLOR_BGR2RGB)\n",
    "blue_img = cv2.cvtColor(cv2.imread(\"images/colors/blue.png\"),cv2.COLOR_BGR2RGB)"
   ]
  },
  {
   "cell_type": "code",
   "execution_count": 79,
   "metadata": {},
   "outputs": [
    {
     "name": "stdout",
     "output_type": "stream",
     "text": [
      "{'Red': array([103.44083333,   2.21837719,  17.38381579]), 'Blue': array([ 0.        , 45.15311404, 76.44074561]), 'Green': array([ 66.34087719, 121.01337719,  35.74460526]), 'Yellow': array([152.82017544, 137.70175439,  17.21635965]), 'White': array([153.23245614, 143.72504386, 128.03333333]), 'Orange': array([218.07289474,  68.74855263,  31.77561404])}\n"
     ]
    }
   ],
   "source": [
    "RUBIKS_COLORS = {\n",
    "    \"Red\": red_img.mean(axis=(0,1)),\n",
    "    \"Blue\": blue_img.mean(axis=(0,1)),\n",
    "    \"Green\": green_img.mean(axis=(0,1)),\n",
    "    \"Yellow\": yellow_img.mean(axis=(0,1)),\n",
    "    \"White\": white_img.mean(axis=(0,1)),\n",
    "    \"Orange\": orange_img.mean(axis=(0,1))\n",
    "}\n",
    "\n",
    "print(RUBIKS_COLORS)"
   ]
  },
  {
   "cell_type": "code",
   "execution_count": 80,
   "metadata": {},
   "outputs": [],
   "source": [
    "def display_image(img):\n",
    "    plt.subplot(1,2,1)\n",
    "    plt.imshow(img)\n",
    "    plt.title('Image')\n",
    "    plt.axis('off')\n",
    "    plt.show()"
   ]
  },
  {
   "cell_type": "code",
   "execution_count": 81,
   "metadata": {},
   "outputs": [],
   "source": [
    "def canny_edge_detector(img):\n",
    "     edges = cv2.Canny(img, 50, 150)\n",
    "     return edges\n",
    "\n",
    "\n",
    "def draw_hough_lines(img, lines):\n",
    "    \"\"\"Draws Hough lines on top of the original image.\"\"\"\n",
    "    black_image = np.zeros_like(img)\n",
    "\n",
    "    \n",
    "    if lines is not None:\n",
    "        for line in lines:\n",
    "            x1, y1, x2, y2 = line[0]\n",
    "            cv2.line(black_image, (x1, y1), (x2, y2), (0, 255, 0), 2)  # Green lines\n",
    "    \n",
    "    return black_image\n",
    "\n"
   ]
  },
  {
   "cell_type": "code",
   "execution_count": 82,
   "metadata": {},
   "outputs": [],
   "source": [
    "def get_hough_lines(edges):\n",
    "    \"\"\"Detects lines using Hough Transform.\"\"\"\n",
    "    lines = cv2.HoughLinesP(edges, 1, np.pi / 180, threshold=20, minLineLength=10, maxLineGap=10)\n",
    "    return lines\n",
    "\n"
   ]
  },
  {
   "cell_type": "code",
   "execution_count": 83,
   "metadata": {},
   "outputs": [],
   "source": [
    "def find_corners(image):\n",
    "    target_color = np.array([0, 255, 0])  # Example: Pure Red\n",
    "\n",
    "    # Find all pixels matching the target color\n",
    "    matches = np.all(image == target_color, axis=-1)\n",
    "\n",
    "    # Get the coordinates of matching pixels\n",
    "    coordinates = np.column_stack(np.where(matches))  # (y, x) format\n",
    "\n",
    "\n",
    "    # Find the top-left and bottom-right coordinates\n",
    "    top_left = tuple(coordinates.min(axis=0)[::-1])  # Swap (y, x) -> (x, y)\n",
    "    bottom_right = tuple(coordinates.max(axis=0)[::-1])\n",
    "\n",
    "    print(f\"Top-left most pixel: {top_left}\")\n",
    "    print(f\"Bottom-right most pixel: {bottom_right}\")\n",
    "    return top_left, bottom_right\n",
    "\n"
   ]
  },
  {
   "cell_type": "code",
   "execution_count": 84,
   "metadata": {},
   "outputs": [],
   "source": [
    "def kmeans_color(img, k=1):\n",
    "    \"\"\"Apply KMeans clustering to find the dominant color in an image region.\"\"\"\n",
    "    pixels = img.reshape(-1, 3)  # Flatten the region into a 2D array\n",
    "    kmeans = KMeans(n_clusters=k, random_state=0, n_init=10)\n",
    "    kmeans.fit(pixels)\n",
    "    dominant_color = kmeans.cluster_centers_.astype(int)  # Get cluster center (average color)\n",
    "    return dominant_color[0]  # Return the dominant color\n",
    "def closest_rubiks_color(color):\n",
    "    \"\"\"Find the closest Rubik's Cube color based on Euclidean distance.\"\"\"\n",
    "    distances = {name: np.linalg.norm(color - rgb) for name, rgb in RUBIKS_COLORS.items()}\n",
    "    return min(distances, key=distances.get)\n",
    "\n",
    "def split_and_kmeans(image_path, top_left, bottom_right):\n",
    "    \"\"\"Splits a region of an image into a 3x3 grid and finds the closest Rubik's Cube color for each region.\"\"\"\n",
    "    image = cv2.imread(image_path)\n",
    "    image = cv2.cvtColor(image, cv2.COLOR_BGR2RGB)  # Convert BGR to RGB\n",
    "    \n",
    "    x1, y1 = top_left\n",
    "    x2, y2 = bottom_right\n",
    "    \n",
    "    # Extract region\n",
    "    region = image[y1:y2, x1:x2]\n",
    "    h, w, _ = region.shape\n",
    "\n",
    "    # Determine grid size\n",
    "    grid_h, grid_w = h // 3, w // 3\n",
    "\n",
    "    # Store colors\n",
    "    colors = []\n",
    "    color_names = []\n",
    "\n",
    "    # Process each 3x3 subregion\n",
    "    for i in range(3):\n",
    "        row_colors = []\n",
    "        row_names = []\n",
    "        for j in range(3):\n",
    "            x_start, y_start = j * grid_w, i * grid_h\n",
    "            x_end, y_end = x_start + grid_w, y_start + grid_h\n",
    "\n",
    "            subregion = region[y_start:y_end, x_start:x_end]\n",
    "            dominant_color = kmeans_color(subregion)\n",
    "            closest_color = closest_rubiks_color(dominant_color)\n",
    "            row_colors.append(RUBIKS_COLORS[closest_color])  # Save actual RGB color\n",
    "            row_names.append(closest_color)  # Save color name\n",
    "        \n",
    "        colors.append(row_colors)\n",
    "        color_names.append(row_names)\n",
    "\n",
    "    return colors, color_names\n"
   ]
  },
  {
   "cell_type": "code",
   "execution_count": null,
   "metadata": {},
   "outputs": [
    {
     "name": "stdout",
     "output_type": "stream",
     "text": [
      "Top-left most pixel: (np.int64(593), np.int64(1137))\n",
      "Bottom-right most pixel: (np.int64(2349), np.int64(2765))\n",
      "top_left (np.int64(593), np.int64(1137))\n",
      "bottom_right (np.int64(2349), np.int64(2765))\n",
      "[[  0   0   0]\n",
      " [  0   0   1]\n",
      " [  0   0   3]\n",
      " ...\n",
      " [255 255 239]\n",
      " [255 255 240]\n",
      " [255 255 241]]\n",
      "about to show image\n"
     ]
    },
    {
     "data": {
      "text/plain": [
       "-1"
      ]
     },
     "execution_count": 87,
     "metadata": {},
     "output_type": "execute_result"
    }
   ],
   "source": [
    "image = cv2.imread(\"images/img8.jpg\")\n",
    "edges = canny_edge_detector(image)\n",
    "lines = cv2.HoughLinesP(edges, 1, np.pi / 180, threshold=10, minLineLength=25, maxLineGap=10)\n",
    "hough_line_image = draw_hough_lines(image, lines)\n",
    "\n",
    "top_left, bottom_right = find_corners(hough_line_image)\n",
    "print(\"top_left\", top_left)\n",
    "print(\"bottom_right\", bottom_right)\n",
    "# print(image.shape)\n",
    "unique_colors = np.unique(image.reshape(-1, 3), axis=0)\n",
    "print(unique_colors)\n",
    "print(\"about to show image\")\n",
    "cv2.imshow('image', hough_line_image)\n",
    "cv2.waitKey(0)\n",
    "cv2.destroyAllWindows()\n",
    "cv2.waitKey(1)"
   ]
  },
  {
   "cell_type": "code",
   "execution_count": 88,
   "metadata": {},
   "outputs": [
    {
     "name": "stdout",
     "output_type": "stream",
     "text": [
      "[['Green', 'White', 'Red'], ['Red', 'Orange', 'White'], ['White', 'Red', 'Orange']]\n"
     ]
    },
    {
     "data": {
      "text/plain": [
       "-1"
      ]
     },
     "execution_count": 88,
     "metadata": {},
     "output_type": "execute_result"
    }
   ],
   "source": [
    "colors, color_names = split_and_kmeans(\"images/img8.jpg\", top_left, bottom_right)\n",
    "print(color_names)\n",
    "\n",
    "cv2.imshow('image', image)\n",
    "cv2.waitKey(0)\n",
    "cv2.destroyAllWindows()\n",
    "cv2.waitKey(1)\n",
    "\n",
    "\n"
   ]
  },
  {
   "cell_type": "code",
   "execution_count": 67,
   "metadata": {},
   "outputs": [
    {
     "data": {
      "image/png": "[encoded data removed]",
      "text/plain": [
       "<Figure size 640x480 with 1 Axes>"
      ]
     },
     "metadata": {},
     "output_type": "display_data"
    }
   ],
   "source": [
    "display_image(edges)"
   ]
  },
  {
   "cell_type": "code",
   "execution_count": null,
   "metadata": {},
   "outputs": [],
   "source": []
  }
 ],
 "metadata": {
  "kernelspec": {
   "display_name": "2f-rubik",
   "language": "python",
   "name": "python3"
  },
  "language_info": {
   "codemirror_mode": {
    "name": "ipython",
    "version": 3
   },
   "file_extension": ".py",
   "mimetype": "text/x-python",
   "name": "python",
   "nbconvert_exporter": "python",
   "pygments_lexer": "ipython3",
   "version": "3.10.16"
  }
 },
 "nbformat": 4,
 "nbformat_minor": 2
}
